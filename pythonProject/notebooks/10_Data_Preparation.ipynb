{
 "cells": [
  {
   "cell_type": "markdown",
   "metadata": {
    "collapsed": false
   },
   "source": [
    "# AffectNet to Tensorflow (Keras)\n",
    "\n",
    "This preparation step will convert the AffectNet Database to the Keras directory structure containing the classes as directories.\n",
    "\n",
    "All images are 224x224.\n",
    "\n",
    "## Class Definitions\n",
    "\n",
    "0: Neutral,\n",
    "1: Happiness,\n",
    "2: Sadness,\n",
    "3: Surprise,\n",
    "4: Fear,\n",
    "5: Disgust,\n",
    "6: Anger,\n",
    "7: Contempt,\n",
    "8: None,\n",
    "9: Uncertain,\n",
    "10: No-Face\n",
    "\n",
    "## Input\n",
    "\n",
    "```\n",
    "train_set\n",
    "└───annotations\n",
    "│   │   100000_aro.npy (Arousal -1 - 1)\n",
    "│   │   100000_exp.npy (Expression 0 - 10)\n",
    "│   │   100000_lnd.npy (68 Facial Landmark Points)\n",
    "│   │   100000_val.npy (Valence -1 - 1)\n",
    "└───images\n",
    "│   │   100000.jpg\n",
    "```\n",
    "\n",
    "## Expected Output\n",
    "\n",
    "```\n",
    "train_set\n",
    "└───class001\n",
    "│   │   100000.jpg\n",
    "```"
   ]
  },
  {
   "cell_type": "code",
   "execution_count": 1,
   "metadata": {
    "collapsed": false
   },
   "outputs": [],
   "source": [
    "import numpy as np\n",
    "from pathlib import Path\n",
    "import os\n",
    "import shutil\n",
    "import glob"
   ]
  },
  {
   "cell_type": "code",
   "execution_count": 8,
   "metadata": {
    "collapsed": false
   },
   "outputs": [],
   "source": [
    "pwd = os.getcwd()\n",
    "dataset = f\"/Users/luca/Downloads/val_set\"\n",
    "target_dir = f\"{dataset}_keras\"\n",
    "classes = [\"0\", \"1\", \"2\", \"3\", \"4\", \"5\", \"6\", \"7\"]\n",
    "number_images_to_process_per_class = 500  # 0 for all images"
   ]
  },
  {
   "cell_type": "code",
   "execution_count": 9,
   "metadata": {
    "collapsed": false
   },
   "outputs": [],
   "source": [
    "if not Path(dataset + \"/images\").is_dir():\n",
    "    raise NotADirectoryError(\"images dir not found\")\n",
    "\n",
    "if not Path(dataset + \"/annotations\").is_dir():\n",
    "    raise NotADirectoryError(\"annotations dir not found\")\n",
    "\n",
    "# ensure target dir and throw if it already exists\n",
    "if Path(target_dir).is_dir():\n",
    "    raise FileExistsError(\"Target dir already exists. Exiting\")\n",
    "\n",
    "Path(target_dir).mkdir(parents=True, exist_ok=True)\n"
   ]
  },
  {
   "cell_type": "code",
   "execution_count": 10,
   "metadata": {},
   "outputs": [
    {
     "name": "stdout",
     "output_type": "stream",
     "text": [
      "working through a total of 3999 images\n",
      "Progress: 0.00\n",
      "Progress: 2.50\n",
      "Progress: 5.00\n",
      "Progress: 7.50\n",
      "Progress: 10.00\n",
      "Progress: 12.50\n",
      "Progress: 15.00\n",
      "Progress: 17.50\n",
      "Progress: 20.01\n",
      "Progress: 22.51\n",
      "Progress: 25.01\n",
      "Progress: 27.51\n",
      "Progress: 30.01\n",
      "Progress: 32.51\n",
      "Progress: 35.01\n",
      "Progress: 37.51\n",
      "Progress: 40.01\n",
      "Progress: 42.51\n",
      "Progress: 45.01\n",
      "Progress: 47.51\n",
      "Progress: 50.01\n",
      "Progress: 52.51\n",
      "Progress: 55.01\n",
      "Progress: 57.51\n",
      "Progress: 60.02\n",
      "Progress: 62.52\n",
      "Progress: 65.02\n",
      "Progress: 67.52\n",
      "Progress: 70.02\n",
      "Progress: 72.52\n",
      "Progress: 75.02\n",
      "Progress: 77.52\n",
      "Progress: 80.02\n",
      "Progress: 82.52\n",
      "Progress: 85.02\n",
      "Progress: 87.52\n",
      "Progress: 90.02\n",
      "Progress: 92.52\n",
      "Progress: 95.02\n",
      "Progress: 97.52\n"
     ]
    }
   ],
   "source": [
    "annotations_dir = dataset + \"/annotations\"\n",
    "\n",
    "# load filenames of all expressions\n",
    "expressions = glob.glob(f\"{annotations_dir}/*_exp.npy\", recursive=False)\n",
    "# empty dictionary with classes as keys and filenames as values\n",
    "classified_images = {key: list() for key in classes}\n",
    "\n",
    "print(\"working through a total of \" + str(len(expressions)) + \" images\")\n",
    "\n",
    "# iterate filenames of expressions\n",
    "for (i, image_expression_filename) in enumerate(expressions):\n",
    "\n",
    "    if i % 100 == 0:\n",
    "        # print percentage of expression progress\n",
    "        print('Progress: {:.2f}'.format(i / len(expressions) * 100))\n",
    "\n",
    "    # load from numpy file\n",
    "    image_expression = np.load(image_expression_filename)\n",
    "    # get first value (there is only one in this case)\n",
    "    image_expression_val = image_expression.flat[0]\n",
    "    # if it's not one of the defined discrete expressions abort here\n",
    "    if int(image_expression_val) > 7:\n",
    "        continue\n",
    "    # add to the dictionary\n",
    "    # {\n",
    "    #   \"0\": [\"filename1\", \"filename2\", ...],\n",
    "    #   \"1\": [\"filename3\", \"filename4\", ...],\n",
    "    # }\n",
    "\n",
    "    if len(classified_images[image_expression_val]) < number_images_to_process_per_class:\n",
    "        classified_images[image_expression_val].append(\n",
    "            image_expression_filename)\n"
   ]
  },
  {
   "cell_type": "code",
   "execution_count": 11,
   "metadata": {},
   "outputs": [],
   "source": [
    "# iterate all classes (0-7)\n",
    "for class_key in classified_images.keys():\n",
    "    # /abc/val_set_keras/0\n",
    "    target_dir_class = target_dir + \"/\" + class_key\n",
    "    Path(target_dir_class).mkdir(parents=True, exist_ok=True)\n",
    "    # iterate expressions per class\n",
    "    # expression_image_file = /abc/val_set/annotations/1234_exp.npy\n",
    "    for expression_image_file in classified_images[class_key]:\n",
    "        # image_filename = /abc/val_set/annotations/1234.jpg\n",
    "        image_filename = expression_image_file[:-8] + \".jpg\"\n",
    "        # image_filename = /abc/val_set/images/1234.jpg\n",
    "        image_filename = image_filename.replace(\"/annotations/\", \"/images/\")\n",
    "        # target_filename = 1234\n",
    "        target_filename = Path(image_filename).stem\n",
    "        # target_file = /abc/val_set_keras/0/1234.jpg\n",
    "        target_file = f'{target_dir}/{class_key}/{target_filename}.jpg'\n",
    "        shutil.copy(image_filename, target_file)\n"
   ]
  }
 ],
 "metadata": {
  "kernelspec": {
   "display_name": "deepl",
   "language": "python",
   "name": "python3"
  },
  "language_info": {
   "codemirror_mode": {
    "name": "ipython",
    "version": 3
   },
   "file_extension": ".py",
   "mimetype": "text/x-python",
   "name": "python",
   "nbconvert_exporter": "python",
   "pygments_lexer": "ipython3",
   "version": "3.10.8 (main, Nov 24 2022, 08:08:27) [Clang 14.0.6 ]"
  },
  "vscode": {
   "interpreter": {
    "hash": "a9138b3f00f1f9724e2b3df18ed97efefbf76428c78bd587450479c2a227678f"
   }
  }
 },
 "nbformat": 4,
 "nbformat_minor": 0
}
